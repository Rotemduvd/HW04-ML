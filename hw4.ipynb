{
 "cells": [
  {
   "cell_type": "markdown",
   "metadata": {},
   "source": [
    "# Exercise 4: Logistic Regression and Evaluation of Binary Classifiers\n",
    "\n",
    "\n",
    "### Make sure that you read and fully understand all the guidelines listed below before you proceed with the exercise.\n",
    "\n",
    "* HW assignments are a significant part of the learning experience in this course and contribute 50% to your final grade. So, make sure to devote the appropriate time to them.\n",
    "* **Sharing solutions with someone who is not your submitting partner is strictly prohibited**. This includes reading someone else's code or sharing your code / posting it somewhere.\n",
    "* Appeals regarding submissions that do not follow the guidelines will not be accepted. \n",
    "\n",
    "## Read the following instructions carefully:\n",
    "\n",
    "### Guidelines for Programming Exercises:\n",
    "\n",
    "* Complete the required functions in `hw4.py`. Any modifications to this notebook will not be tested by our automated tests.\n",
    "* Write **efficient**, **vectorized** code whenever possible. Some calculations in this exercise can take several minutes when implemented efficiently, but will take much longer otherwise. Unnecessary loops will result in point deductions.\n",
    "* You are responsible for the correctness of your code. You can add tests to this jupyter notebook to validate your solution. The contents of this jupyter notebook will not be graded or checked.\n",
    "* You are allowed to use functions and methods from the [Python Standard Library](https://docs.python.org/3/library/), numpy and pandas only. **Do not import anything else.**\n",
    "* Use `numpy` version 1.15.4 or higher.\n",
    "* Your code must run without errors. Code that cannot run will not be graded.\n",
    "* Include docstrings and comments explaining your code\n",
    "* Your code will be tested using automated scripts. So, failure to follow the instructions may lead to test failure, which might significantly affect your grade. \n",
    "\n",
    "\n",
    "### Guidlines for Theoretical Exercises\n",
    "* Your solution should be written or typed and submitted in a separate file `hw4.pdf`.\n",
    "* If you scan a handwritten solution, make sure that your handwriting is legible and the scan quality is good.\n",
    "* You are expected to solve the questions analytically and provide a step-by-step solution. \n",
    "* It is okay and often recommended to use python to carry out the computations. \n",
    "* You may use the lecture slides and previous homework assignments as references, unless explicitly asked to prove a result from class. \n",
    "\n",
    "### Submission Guidelines:\n",
    "* Submit your solutiuon in a zip file that contains: \n",
    "  - The `hw4.py` script with your solution to the progamming exercise\n",
    "  - This notebook with your added tests (this is not checked or graded)\n",
    "  - The `hw4.pdf` file with your solution to the theoretical exercises.\n",
    "  \n",
    "* The name of the zip file should contain your ID(s). For example, `hw4_123456789_987654321.zip` if you submitted in pairs and `hw4_123456789.zip` if you submitted the exercise alone.\n",
    "* Please use **only a zip** file in your submission.\n",
    "\n",
    "\n",
    "---\n",
    "---\n",
    "\n",
    "## Please sign that you have read and understood the instructions: \n",
    "\n",
    "### *** YOUR ID HERE ***\n",
    "\n",
    "---\n",
    "---\n"
   ]
  },
  {
   "cell_type": "markdown",
   "metadata": {},
   "source": [
    "# Part 1: Theoretical Exercise (16 points)\n",
    "\n",
    "In class we developed the logistic regression model by requiring that the class labeling probability (for class 1) follows is a sigmoid function of the inner product of the feature vector ($x$) and the weight vector ($w$):\n",
    "$$\n",
    "\\Pr[Y=1|X=x,w] ~~=~~ \\sigma(w^\\top x) ~~=~~ \\frac{1}{1+ e^{-w^\\top x}}\n",
    "$$\n",
    "Using this function for the class labeling probability, we defined the data likelihood, the binary cross entroy (BCE) loss, and a gradient descent algorithm for minimizing the BCE loss.\n",
    "\n",
    "In this question, you will derive a model and optimization scheme under the following assumptions on the class labeling probabilities:\n",
    "$$\n",
    "\\Pr[Y=1|X=x,w] = \\Phi(w^\\top x), \\qquad \\Phi(x) = \\frac{1}{\\sqrt{2\\pi}}\\int_{-\\infty}^x e^{-t^2/2} dt. \n",
    "$$\n",
    "This is called the *probit probability model* (unlike the logistic probability model in logistic regression).\n",
    "Recall that $\\Phi(x)$ is the CDF of the standard normal variable (with mean 0 and variance 1).\n",
    "The probit model is similar to logistic regression but uses the cumulative normal distribution \n",
    "instead of the sigmoid function. Both models typically yield similar results in practice.\n",
    "\n",
    "\n",
    "1. Derive the log-likelihood $\\ell(w;D)$ under this model. You may assume that the marginal probability of the data, $P_X(\\{x^{(i)}\\}_{i=1}^n)$, does not depend on the weight vector $w$ (as we assumed in the logistic probability model).\n",
    "2. Express the problem of maximizing the log-likelihood in this model as a problem of minimizing the appropriate binary cross-entropy (BCE) loss. The BCE loss you specify here **should not** be normalized by the number of samples ($n$).\n",
    "3. Find the gradient of the BCE loss and describe how to minimize it using gradient descent.  \n",
    "\n",
    "Question 4-6 below are based on a question from a previous exam (Moed B 2024).\n",
    "In all three questions, consider the training data set $D=\\{x^{(i)},y^{(i)} \\}_{i=1}^{8}$ specified in the cell below. "
   ]
  },
  {
   "cell_type": "code",
<<<<<<< HEAD
   "execution_count": 5,
   "metadata": {},
   "outputs": [],
=======
   "metadata": {
    "ExecuteTime": {
     "end_time": "2025-06-06T12:08:01.664211Z",
     "start_time": "2025-06-06T12:08:01.629945Z"
    }
   },
>>>>>>> origin/main
   "source": [
    "import numpy as np\n",
    "X = np.array([[1, 1, -1, 2, 4], \n",
    "              [1, -1, -2, 1, 2],\n",
    "              [1, 2, 0, 3, 1],\n",
    "              [1, 0, 1, -1, 3], \n",
    "              [1, 1, -1, 2, 2], \n",
    "              [1, -1, -1, 2, 3],\n",
    "              [1, 2, 3, 1, 1],\n",
    "              [1, 2, 3, 1, 5]\n",
    "              ])\n",
    "y = np.array([1, 0, 1, 0, 1, 0, 1, 1])"
   ],
   "outputs": [],
   "execution_count": 10
  },
  {
   "cell_type": "markdown",
   "metadata": {},
   "source": [
    "4. Should you add a \"bias\" term $x_0=1$? \n",
    "\n",
    "5. Assume initial weights `w = [0, 0, 0, 0, 0]` and learning rate $\\eta=0.01$. Implement `n_iter=4` steps of the gradient descent algorithm for the probit model. For each step, report the gradient and the BCE loss **after** the update. You should use python code to implement the computation and use `scipy.stats.norm.cdf` and `scipy.stats.norm.pdf` to evaluate the normal CDF and PDF. Use the unnormalized version of the BCE loss here (without dividing by the number of samples). No need to submit your code, just the output.\n",
    "\n",
    "6. Evaluate the model you obtained at the end of the last iteration above on the trianing set. What is the class label it predicts for each of the eight samples in the training set? On which of the samples does it make a classification error? What is its accuracy? As in (5) above, you should use python code to obtain the results, but you submit only your answers without the code.\n"
   ]
  },
  {
   "cell_type": "markdown",
   "metadata": {},
   "source": [
    "# Part 2: Coding Assignment (84 points)\n",
    "\n",
    "In this coding assignment, you will implement logistic regression to classify handwritten digits from the MNIST dataset.\n",
    "We will focus on binary classification between digits 8 and 9, where the images have been corrupted with noise."
   ]
  },
  {
   "cell_type": "code",
<<<<<<< HEAD
   "execution_count": 6,
   "metadata": {},
   "outputs": [
    {
     "name": "stdout",
     "output_type": "stream",
     "text": [
      "The autoreload extension is already loaded. To reload it, use:\n",
      "  %reload_ext autoreload\n"
     ]
    }
   ],
=======
   "metadata": {
    "ExecuteTime": {
     "end_time": "2025-06-06T12:08:01.703163Z",
     "start_time": "2025-06-06T12:08:01.673514Z"
    }
   },
>>>>>>> origin/main
   "source": [
    "import matplotlib.pyplot as plt\n",
    "import numpy as np\n",
    "import pandas as pd\n",
    "import matplotlib.pyplot as plt\n",
    "\n",
    "# make matplotlib figures appear inline in the notebook\n",
    "%matplotlib inline\n",
    "plt.rcParams['figure.figsize'] = (10.0, 8.0) # set default size of plots\n",
    "plt.rcParams['image.interpolation'] = 'nearest'\n",
    "plt.rcParams['image.cmap'] = 'gray'\n",
    "\n",
    "# Make the notebook automatically reload external python modules\n",
    "%load_ext autoreload\n",
    "%autoreload 2\n",
    "# Ignore warnings\n",
    "import warnings\n",
    "warnings.filterwarnings('ignore')"
   ],
   "outputs": [
    {
     "name": "stdout",
     "output_type": "stream",
     "text": [
      "The autoreload extension is already loaded. To reload it, use:\n",
      "  %reload_ext autoreload\n"
     ]
    }
   ],
   "execution_count": 11
  },
  {
   "cell_type": "markdown",
   "metadata": {},
   "source": [
    "## 1. Loading and Preparing Data (2 points)\n",
    "\n",
    "We start by loading the MNIST data and adding random noise to every image.\n",
    "Make sure the data file ``mnist_8n9.npz`` is in the working directory and then execute the code below.\n",
    "Each sample consists of 784 integer features in the range $[0,255]$ representing a $28 \\times 28$ grayscale image. \n",
    "The code below loads the data, normalizes the features to range [0,1] and adds random noise to each image.\n",
    "We then print nine random samples as bitmap images."
   ]
  },
  {
   "cell_type": "code",
<<<<<<< HEAD
   "execution_count": 7,
   "metadata": {},
   "outputs": [
    {
     "name": "stdout",
     "output_type": "stream",
     "text": [
      "Training set contains 11026 samples with 784 features\n",
      "Test set contains 2757 samples with 784 features\n"
     ]
    },
    {
     "data": {
      "image/png": "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",
      "text/plain": [
       "<Figure size 500x500 with 9 Axes>"
      ]
     },
     "metadata": {},
     "output_type": "display_data"
    }
   ],
=======
   "metadata": {
    "ExecuteTime": {
     "end_time": "2025-06-06T12:08:03.034359Z",
     "start_time": "2025-06-06T12:08:01.749339Z"
    }
   },
>>>>>>> origin/main
   "source": [
    "# function adds random noise to given data (train or test)\n",
    "def add_noise(X, noise_level):\n",
    "    np.random.seed(42)\n",
    "    return np.minimum(X + (np.random.rand(X.shape[0], X.shape[1]) > noise_level), 1)\n",
    "\n",
    "# Load train and test data and normalize pixel values to [0, 1]\n",
    "data = np.load('mnist_8n9.npz')\n",
    "X_train = data[\"X_train\"] / 255\n",
    "X_test  = data[\"X_test\"] / 255\n",
    "y_train = data['y_train'].astype(int)\n",
    "y_test  = data['y_test'].astype(int)\n",
    "\n",
    "# add random noise to train and test data\n",
    "X_train = add_noise(X_train, noise_level=0.1)\n",
    "X_test  = add_noise(X_test, noise_level=0.1)\n",
    "\n",
    "# print basic stats\n",
    "print(\"Training set contains\", X_train.shape[0], \"samples with\", X_train.shape[1], \"features\")\n",
    "print(\"Test set contains\", X_test.shape[0], \"samples with\", X_test.shape[1], \"features\")\n",
    "\n",
    "# plot nine random images from the training set\n",
    "sample_indices = np.random.choice(X_train.shape[0], 9, replace=False)\n",
    "plt.figure(figsize=(5, 5))\n",
    "for j,i in enumerate(sample_indices):\n",
    "    plt.subplot(3, 3, j+1)\n",
    "    plt.imshow(X_train[i].reshape(28, 28), cmap='gray')\n",
    "    plt.title(f'Label: {y_train[i]}', fontsize=10)\n",
    "plt.tight_layout()\n",
    "plt.show()"
   ],
   "outputs": [
    {
     "name": "stdout",
     "output_type": "stream",
     "text": [
      "Training set contains 11026 samples with 784 features\n",
      "Test set contains 2757 samples with 784 features\n"
     ]
    },
    {
     "data": {
      "text/plain": [
       "<Figure size 500x500 with 9 Axes>"
      ],
      "image/png": "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\n"
     },
     "metadata": {},
     "output_type": "display_data"
    }
   ],
   "execution_count": 12
  },
  {
   "cell_type": "markdown",
   "metadata": {},
   "source": [
    "Implement the function `add_bias_term` in `hw4.py` to add a constant 1 as the 0th feature to each sample (2 points)."
   ]
  },
  {
   "cell_type": "code",
<<<<<<< HEAD
   "execution_count": 8,
   "metadata": {},
   "outputs": [],
=======
   "metadata": {
    "ExecuteTime": {
     "end_time": "2025-06-06T12:08:03.156065Z",
     "start_time": "2025-06-06T12:08:03.059242Z"
    }
   },
>>>>>>> origin/main
   "source": [
    "from hw4 import add_bias_term\n",
    "    \n",
    "X_train = add_bias_term(X_train)\n",
    "X_test  = add_bias_term(X_test)\n",
    "\n",
    "# Verify that the size of each instance in the datasets has increased by 1\n",
    "assert X_train.shape[1] == X_test.shape[1] == 785\n"
   ],
   "outputs": [],
   "execution_count": 13
  },
  {
   "cell_type": "markdown",
   "metadata": {},
   "source": [
    "## 2. Implementing The Logistic Regression Model (30 points)\n",
    "\n",
    "Implement the `LogisticRegressionGD` class in `hw4.py`.\n",
    "\n",
    "This class consists of a constructor (which is already implemented) and four member functions, which you should implement:\n",
    "`predict_proba`, `predict`, `BCE_loss`, and `fit`.\n",
    "\n",
    "Recall that the logistic regression model attempts to minimize the binary cross-entropy loss:\n",
    "$$\n",
    "BCE(w;D) = -\\frac{1}{n}\\sum_{i=1}^n [y_i \\log(\\sigma(w^\\top x^{(i)})) + (1-y_i)\\log(1-\\sigma(w^\\top x^{(i)}))] ~,\n",
    "$$\n",
    "\n",
    "where $\\sigma(x) = \\frac{1}{1 + e^{-x}}$ is the sigmoid function, $w$ are the model parameters,\n",
    "$x^{(i)}$ are the input feature vectors, and $y_i$ are the binary labels.\n",
    "Note that here we use the version of the BCE loss **normalized by the number of samples**.\n",
    "Make sure to use this version in your implementation.\n",
    "\n",
    "The code below fits a logistic regression model on the training data."
   ]
  },
  {
   "cell_type": "code",
   "metadata": {
    "ExecuteTime": {
     "end_time": "2025-06-06T12:09:33.672022Z",
     "start_time": "2025-06-06T12:09:24.849881Z"
    }
   },
   "source": [
    "from hw4 import LogisticRegressionGD\n",
    "\n",
    "model = LogisticRegressionGD(learning_rate=0.001, max_iter=1000)\n",
    "model.fit(X_train, y_train)\n",
    "print(X_train, y_train)\n",
    "print(model.BCE_loss(X_train, y_train))"
   ],
   "outputs": [
    {
     "name": "stdout",
     "output_type": "stream",
     "text": [
      "[[1. 1. 1. ... 1. 1. 1.]\n",
      " [1. 1. 1. ... 1. 1. 0.]\n",
      " [1. 1. 1. ... 0. 1. 1.]\n",
      " ...\n",
      " [1. 1. 1. ... 1. 1. 1.]\n",
      " [1. 1. 1. ... 1. 1. 1.]\n",
      " [1. 1. 0. ... 1. 1. 0.]] [9 8 9 ... 9 9 9]\n",
      "17.252921954684787\n"
     ]
    }
   ],
   "execution_count": 17
  },
  {
   "cell_type": "markdown",
   "metadata": {},
   "source": [
    "## 3. Selecting A Learning Rate (10 points)\n",
    "\n",
    "Implement the function `select_learning_rate` in `hw4.py` to find an effective learning rate for the training data.\n",
    "\n",
    "This function receives as parameter an array of learning rates.\n",
    "For each learning rate, fit a logistic regression classifier to the training data using a pre-specified number of GD iterations and record the final BCE loss against the learning rate. Then, return the learning rate that resulted in the smallest loss.\n",
    "\n",
    "The code below selects a learning rate among a list of values and then trains a logistic regression model using this rate and 10,000 iterations. It then prints the resulting weights and reports their performance on the train and test set."
   ]
  },
  {
   "cell_type": "code",
<<<<<<< HEAD
   "execution_count": 9,
   "metadata": {},
   "outputs": [
    {
     "ename": "TypeError",
     "evalue": "'<' not supported between instances of 'NoneType' and 'float'",
     "output_type": "error",
     "traceback": [
      "\u001b[0;31m---------------------------------------------------------------------------\u001b[0m",
      "\u001b[0;31mTypeError\u001b[0m                                 Traceback (most recent call last)",
      "Cell \u001b[0;32mIn[9], line 6\u001b[0m\n\u001b[1;32m      4\u001b[0m learning_rates \u001b[38;5;241m=\u001b[39m [\u001b[38;5;241m0.5\u001b[39m, \u001b[38;5;241m0.2\u001b[39m, \u001b[38;5;241m0.1\u001b[39m, \u001b[38;5;241m0.01\u001b[39m, \u001b[38;5;241m0.005\u001b[39m]\n\u001b[1;32m      5\u001b[0m max_iter \u001b[38;5;241m=\u001b[39m \u001b[38;5;241m1000\u001b[39m\n\u001b[0;32m----> 6\u001b[0m learning_rate \u001b[38;5;241m=\u001b[39m \u001b[43mselect_learning_rate\u001b[49m\u001b[43m(\u001b[49m\u001b[43mX_train\u001b[49m\u001b[43m,\u001b[49m\u001b[43m \u001b[49m\u001b[43my_train\u001b[49m\u001b[43m,\u001b[49m\u001b[43m \u001b[49m\u001b[43mlearning_rates\u001b[49m\u001b[43m,\u001b[49m\u001b[43m \u001b[49m\u001b[43mmax_iter\u001b[49m\u001b[38;5;241;43m=\u001b[39;49m\u001b[43mmax_iter\u001b[49m\u001b[43m)\u001b[49m\n\u001b[1;32m      7\u001b[0m \u001b[38;5;28mprint\u001b[39m(\u001b[38;5;124mf\u001b[39m\u001b[38;5;124m\"\u001b[39m\u001b[38;5;124mThe learning rate attaining the minimal BCE after \u001b[39m\u001b[38;5;132;01m{\u001b[39;00mmax_iter\u001b[38;5;132;01m}\u001b[39;00m\u001b[38;5;124m GD iterations is \u001b[39m\u001b[38;5;132;01m{\u001b[39;00mlearning_rate\u001b[38;5;132;01m}\u001b[39;00m\u001b[38;5;124m. We pick it.\u001b[39m\u001b[38;5;124m\"\u001b[39m)\n\u001b[1;32m      9\u001b[0m \u001b[38;5;66;03m# Train the model with the selected learning rate\u001b[39;00m\n",
      "File \u001b[0;32m~/Documents/CS/Year2/Sem2/Machine Learning/HW4_V2/hw4.py:200\u001b[0m, in \u001b[0;36mselect_learning_rate\u001b[0;34m(X_train, y_train, learning_rates, max_iter)\u001b[0m\n\u001b[1;32m    197\u001b[0m bce_loss \u001b[38;5;241m=\u001b[39m model\u001b[38;5;241m.\u001b[39mBCE_loss(X_train, y_train)\n\u001b[1;32m    199\u001b[0m \u001b[38;5;66;03m# check for minimum BCE\u001b[39;00m\n\u001b[0;32m--> 200\u001b[0m \u001b[38;5;28;01mif\u001b[39;00m \u001b[43mbce_loss\u001b[49m\u001b[43m \u001b[49m\u001b[38;5;241;43m<\u001b[39;49m\u001b[43m \u001b[49m\u001b[43mmin_bce\u001b[49m:\n\u001b[1;32m    201\u001b[0m     min_bce \u001b[38;5;241m=\u001b[39m bce_loss\n\u001b[1;32m    202\u001b[0m     selected_learning_rate \u001b[38;5;241m=\u001b[39m lr\n",
      "\u001b[0;31mTypeError\u001b[0m: '<' not supported between instances of 'NoneType' and 'float'"
     ]
    }
   ],
=======
   "metadata": {
    "ExecuteTime": {
     "end_time": "2025-06-06T12:08:12.482397Z",
     "start_time": "2025-06-06T12:08:12.417578Z"
    }
   },
>>>>>>> origin/main
   "source": [
    "from hw4 import select_learning_rate\n",
    "\n",
    "# Select the best learning rate based on the minimal BCE loss after 1000 GD iterations\n",
    "learning_rates = [0.5, 0.2, 0.1, 0.01, 0.005]\n",
    "max_iter = 1000\n",
    "learning_rate = select_learning_rate(X_train, y_train, learning_rates, max_iter=max_iter)\n",
    "print(f\"The learning rate attaining the minimal BCE after {max_iter} GD iterations is {learning_rate}. We pick it.\")\n",
    "\n",
    "# Train the model with the selected learning rate\n",
    "model = LogisticRegressionGD(learning_rate=learning_rate, max_iter=10000)\n",
    "model.fit(X_train, y_train)\n",
    "\n",
    "# Convert the weights to a 28x28 image for visualization and plot them\n",
    "weights = model.w_[1:].reshape(28, 28)\n",
    "plt.figure(figsize=(4,4))\n",
    "plt.imshow(weights)\n",
    "plt.axis('off')\n",
    "plt.title(\"weights of LoR classifier\")\n",
    "plt.show()\n",
    "\n",
    "# Evaluate the model on the training and test sets\n",
    "print(f\"Train BCE: {model.BCE_loss(X_train, y_train)}\")\n",
    "y_pred_train = model.predict(X_train)\n",
    "print(f\"Train accuracy: {np.sum(y_pred_train == y_train) / len(y_train)}\")\n",
    "\n",
    "print(f\"Test BCE: {model.BCE_loss(X_test, y_test)}\")\n",
    "y_pred_test = model.predict(X_test)\n",
    "print(f\"Test accuracy: {np.sum(y_pred_test == y_test) / len(y_test)}\")"
   ],
   "outputs": [
    {
     "name": "stdout",
     "output_type": "stream",
     "text": [
      "The learning rate attaining the minimal BCE after 1000 GD iterations is None. We pick it.\n"
     ]
    },
    {
     "ename": "TypeError",
     "evalue": "unsupported operand type(s) for *: 'int' and 'NoneType'",
     "output_type": "error",
     "traceback": [
      "\u001B[0;31m---------------------------------------------------------------------------\u001B[0m",
      "\u001B[0;31mTypeError\u001B[0m                                 Traceback (most recent call last)",
      "\u001B[0;32m/var/folders/ll/pktmkkpn6n1frv7c3j0cz61m0000gn/T/ipykernel_72716/1149828874.py\u001B[0m in \u001B[0;36m<module>\u001B[0;34m\u001B[0m\n\u001B[1;32m      9\u001B[0m \u001B[0;31m# Train the model with the selected learning rate\u001B[0m\u001B[0;34m\u001B[0m\u001B[0;34m\u001B[0m\u001B[0;34m\u001B[0m\u001B[0m\n\u001B[1;32m     10\u001B[0m \u001B[0mmodel\u001B[0m \u001B[0;34m=\u001B[0m \u001B[0mLogisticRegressionGD\u001B[0m\u001B[0;34m(\u001B[0m\u001B[0mlearning_rate\u001B[0m\u001B[0;34m=\u001B[0m\u001B[0mlearning_rate\u001B[0m\u001B[0;34m,\u001B[0m \u001B[0mmax_iter\u001B[0m\u001B[0;34m=\u001B[0m\u001B[0;36m10000\u001B[0m\u001B[0;34m)\u001B[0m\u001B[0;34m\u001B[0m\u001B[0;34m\u001B[0m\u001B[0m\n\u001B[0;32m---> 11\u001B[0;31m \u001B[0mmodel\u001B[0m\u001B[0;34m.\u001B[0m\u001B[0mfit\u001B[0m\u001B[0;34m(\u001B[0m\u001B[0mX_train\u001B[0m\u001B[0;34m,\u001B[0m \u001B[0my_train\u001B[0m\u001B[0;34m)\u001B[0m\u001B[0;34m\u001B[0m\u001B[0;34m\u001B[0m\u001B[0m\n\u001B[0m\u001B[1;32m     12\u001B[0m \u001B[0;34m\u001B[0m\u001B[0m\n\u001B[1;32m     13\u001B[0m \u001B[0;31m# Convert the weights to a 28x28 image for visualization and plot them\u001B[0m\u001B[0;34m\u001B[0m\u001B[0;34m\u001B[0m\u001B[0;34m\u001B[0m\u001B[0m\n",
      "\u001B[0;32m~/Desktop/sapir/machine learning/HW04-ML/hw4.py\u001B[0m in \u001B[0;36mfit\u001B[0;34m(self, X, y)\u001B[0m\n\u001B[1;32m    167\u001B[0m                 \u001B[0;32mbreak\u001B[0m\u001B[0;34m\u001B[0m\u001B[0;34m\u001B[0m\u001B[0m\n\u001B[1;32m    168\u001B[0m             \u001B[0mgradient\u001B[0m \u001B[0;34m=\u001B[0m \u001B[0mX\u001B[0m\u001B[0;34m.\u001B[0m\u001B[0mT\u001B[0m \u001B[0;34m@\u001B[0m \u001B[0;34m(\u001B[0m\u001B[0msigmoid\u001B[0m \u001B[0;34m-\u001B[0m \u001B[0my_01\u001B[0m\u001B[0;34m)\u001B[0m\u001B[0;34m\u001B[0m\u001B[0;34m\u001B[0m\u001B[0m\n\u001B[0;32m--> 169\u001B[0;31m             \u001B[0mself\u001B[0m\u001B[0;34m.\u001B[0m\u001B[0mw_\u001B[0m \u001B[0;34m+=\u001B[0m \u001B[0;34m-\u001B[0m\u001B[0;36m1\u001B[0m \u001B[0;34m*\u001B[0m \u001B[0mself\u001B[0m\u001B[0;34m.\u001B[0m\u001B[0mlearning_rate\u001B[0m \u001B[0;34m*\u001B[0m \u001B[0mgradient\u001B[0m\u001B[0;34m\u001B[0m\u001B[0;34m\u001B[0m\u001B[0m\n\u001B[0m\u001B[1;32m    170\u001B[0m \u001B[0;34m\u001B[0m\u001B[0m\n\u001B[1;32m    171\u001B[0m     \u001B[0;31m###########################################################################\u001B[0m\u001B[0;34m\u001B[0m\u001B[0;34m\u001B[0m\u001B[0;34m\u001B[0m\u001B[0m\n",
      "\u001B[0;31mTypeError\u001B[0m: unsupported operand type(s) for *: 'int' and 'NoneType'"
     ]
    }
   ],
   "execution_count": 15
  },
  {
   "cell_type": "markdown",
   "metadata": {},
   "source": [
    "## 4. Evaluating The Model Using Cross Validation (15 points)\n",
    "\n",
    "Implement the function `cv_accuracy_and_BCE_error` in `hw4.py` for computing the average model accuracy and loss using cross validation (CV).\n",
    "\n",
    "The purpose of this analysis is to be able to better approximate the test error from the training data. \n",
    "\n",
    "We would like to get a better assessment of the test error from the train data using cross-validation.\n",
    "The function partitions the (train) data to `n_folds=5` folds and used 5-fold CV to produce 5 estimates of accuracy and loss.\n",
    "The CV loss and accuracy is then obtained as the average of these 5 values."
   ]
  },
  {
   "cell_type": "code",
   "execution_count": null,
   "metadata": {},
   "outputs": [],
   "source": [
    "from hw4 import cv_accuracy_and_bce_error\n",
    "\n",
    "cv_acc, cv_bce = cv_accuracy_and_bce_error(X_train, y_train, n_folds=5)\n",
    "print(\"Average CV BCE loss: \", np.mean(cv_bce))\n",
    "print(\"Average CV accuracy: \", np.mean(cv_acc))"
   ]
  },
  {
   "cell_type": "markdown",
   "metadata": {},
   "source": [
    "## 5. Reporting Various Accuracy Metrics (12 points)\n",
    "\n",
    "In this section you will evaluate the model's performance with greater detail.\n",
    "We start by examining the *confusion matrix* of our binary classifier.\n",
    "Recall that this confusion matrix has the following structure:\n",
    "\n",
    "|                   |   |    True         |   Class    |\n",
    "|-------------------|---|-----------------|------------|\n",
    "|                   |   |  0              | 1          |\n",
    "| **Predicted**     | 0 | #TN             | #FN        |\n",
    "| $~~~~~~~$**Class**| 1 | #FP             | #TP        |\n",
    "\n",
    "The cells of this matrix contain counts of the following cases:\n",
    "- A *True Negative*  (TN) is a negative sample ($y=0$) that is   correctly classified as negative ($\\hat y=0$)\n",
    "- A *True Positive*  (TP) is a positive sample ($y=1$) that is   correctly classified as positive ($\\hat y=1$)\n",
    "- A *False Negative* (FN) is a positive sample ($y=1$) that is incorrectly classified as negative ($\\hat y=0$); also called a type II error\n",
    "- A *False Positive* (FP) is a negative sample ($y=0$) that is incorrectly classified as positive ($\\hat y=1$); also called a type I error\n",
    "\n",
    "These metrics are useful in real-world applications where different types of errors have different consequences.\n",
    "Consider a medical diagnosis system for detecting a serious disease:\n",
    "- A false positive (FP) means unnecessarily worrying a healthy patient and potentially prescribing unnecessary treatment\n",
    "- A false negative (FN) means missing a sick patient who needs treatment - potentially life-threatening\n",
    "\n",
    "In this case, we may wish to minimize FNs at the expense of potentially adding some FPs to minimize missed diagnoses, even at the cost of more false positives.\n",
    "\n",
    "We measure these errors using several key metrics. First, looking at errors **per true class**:\n",
    "Since the number of positive samples ($y=1$) is obtained by #TP + #FN and the number of negative samples ($y=0$) is obtained by #TN + #FP,\n",
    "we get the following rates:\n",
    "- *True Positive Rate* (TPR) = #TP / (#TP + #FN)  - the fraction of actual positive samples we correctly   classify as positive\n",
    "- *True Negative Rate* (TNR) = #TN / (#TN + #FP)  - the fraction of actual negative samples we correctly   classify as negative\n",
    "- *False Positive Rate* (FPR) = #FP / (#TN + #FP) - the fraction of actual negative samples we incorrectly classify as positive\n",
    "- *False Negative Rate* (FNR) = #FN / (#TP + #FN) - the fraction of actual positive samples we incorrectly classify as negative\n",
    "\n",
    "We also care about performance across the **entire dataset**:\n",
    "Since the total number of samples is #TP + #FP + #TN + #FN, we measure:\n",
    "- Accuracy = (#TP + #TN) / (#TP + #FP + #TN + #FN) - the fraction of correct predictions overall\n",
    "- Risk = (#FP + #FN) / (#TP + #FP + #TN + #FN)     - the fraction of incorrect predictions overall\n",
    "\n",
    "Finally, three especially useful composite metrics that data scientists rely on:\n",
    "  - *Recall* = TPR = #TP / (#TP + #FN) - measures the fraction of positive predictions out of all **actual positive samples**\n",
    "  - *Precision* = #TP / (#TP + #FP) - measures the fraction of positive predictions out of all  **positive predictions**\n",
    "  - *F1* = 2 * (precision * recall) / (precision + recall) - a balanced measure combining precision and recall (their harmonic mean)\n",
    "\n",
    "In our disease example, high recall would mean catching most sick patients (few false negatives),\n",
    "while high precision would mean most patients we flag as sick are actually sick (few false positives).\n",
    "The F1 score helps balance these competing objectives.\n"
   ]
  },
  {
   "cell_type": "markdown",
   "metadata": {},
   "source": [
    "Implement the function `calc_and_print_metrics` in `hw4.py` which calculates the various measures mentioned above (12 points).\n",
    "\n",
    "Consider class \"9\" as positive ($y=1$) and class \"8\" as negative ($y=0$). \n",
    "\n",
    "The code below computes and prints the accuracy measures for the train and test set."
   ]
  },
  {
   "cell_type": "code",
   "execution_count": null,
   "metadata": {},
   "outputs": [],
   "source": [
    "\n",
    "# Calculate the metrics for the LogisticRegression classifier.\n",
    "from hw4 import calc_and_print_metrics\n",
    "\n",
    "# Predict the labels for the training and test sets\n",
    "y_pred_train = model.predict(X_train)\n",
    "y_pred_test = model.predict(X_test)\n",
    "\n",
    "print(f\"Training set (total = {y_train.shape[0]}):\")\n",
    "calc_and_print_metrics(y_train, y_pred_train, positive_class=9)\n",
    "\n",
    "print(f\"\\nTest set: (total = {y_test.shape[0]}):\")\n",
    "calc_and_print_metrics(y_test, y_pred_test, positive_class=9)\n"
   ]
  },
  {
   "cell_type": "markdown",
   "metadata": {},
   "source": [
    "## 6. Examining The Tradeoff Between Different Error Types Using Receiver Operating Characteristic (ROC) (15 points)\n",
    "\n",
    "An important feature of (linear) binary classifiers is the possibility to tune their sensitivity to different kinds of errors.\n",
    "In linear regression models this can easily be achieved by tuning the probability threshold for positive predictions (which can be seen as considering hyperplanes parallel to the original one).\n",
    "By default, we use a threshold of $\\frac 1 2$ and associate a sample $x$ for which $\\sigma(w^\\top x)>\\frac 1 2$ with positive prediction $\\hat y = 1$. By increasing this threshold, we decrease the number of positive predictions, which increases the number of false positives and decreases the number of false negatives.\n",
    "\n",
    "With the *receiver operating characteristic (ROC) curve* we examine the performance of a given binary classifier across different classification thresholds. For each threshold we plot the TPR (Y axis) against the FPR (X axis). This curve allows us to assess the classifier's performance across prediction thresholds:\n",
    "* A perfect classifier would have a point at (0,1), indicating that there is a threshold that achieves no false positives and all true positives.\n",
    "* A classifier for which the ROC curve follows close to the diagonal ($y=x$) is no better than a classifier that randomly selects a predicted label.\n",
    "\n",
    "Most classifiers fall somewhere in between the above two options. A common way to evaluate the classifier across all thresholds is using the  area under the curve (AUC). This provides a single measure that tells us where a classifier falls in the spectrum between a perfect classifier (AUC=1) and a random one (AUC=$\\frac 12$).\n",
    "\n",
    "Implement the function `fpr_tpr_per_threshold` in `hw4.py` which calculates the FPRs and TPRs of a given classifier using a list of thresholds (12 points).\n",
    "\n",
    "The code below uses the output of this function to plot a ROC curve and compute the AUC for a random classifier and for your logistic regression classifier."
   ]
  },
  {
   "cell_type": "code",
   "execution_count": null,
   "metadata": {},
   "outputs": [],
   "source": [
    "from hw4 import fpr_tpr_per_threshold\n",
    "\n",
    "def illustrate_roc_curve_and_auc(fpr, tpr, label='ROC Curve'):\n",
    "    \"\"\"\n",
    "    Plot the ROC curve and calculate AUC score for a classifier.\n",
    "\n",
    "    Parameters\n",
    "    ----------\n",
    "    fpr : list or array\n",
    "        False Positive Rate values.\n",
    "    tpr : list or array\n",
    "        True Positive Rate values.\n",
    "    label : str, optional\n",
    "        Name of the classifier to display in plot legend. Default is 'ROC Curve'.\n",
    "    \"\"\"\n",
    "\n",
    "    # Compute the AUC score\n",
    "    auc = 0\n",
    "    # Sort the fpr and tpr arrays by tpr in descending order\n",
    "    idcs = np.argsort(tpr)[::-1]\n",
    "    sorted_fpr = np.array(fpr)[idcs]\n",
    "    sorted_tpr = np.array(tpr)[idcs]\n",
    "\n",
    "    for i in range(len(sorted_fpr)-1):\n",
    "        auc += (sorted_fpr[i] - sorted_fpr[i+1]) * sorted_tpr[i]\n",
    "\n",
    "    # Plot ROC curve\n",
    "    plt.figure(figsize=(8, 6))\n",
    "    plt.plot(fpr, tpr, label=f'{label} (AUC = {auc:.3f})')\n",
    "    plt.plot([0, 1], [0, 1], 'k--', label='FPR = TPR')\n",
    "    plt.xlabel('False Positive Rate')\n",
    "    plt.ylabel('True Positive Rate')\n",
    "    plt.title('ROC Curve')\n",
    "    plt.legend()\n",
    "    plt.grid(True)\n",
    "    plt.show()\n",
    "\n",
    "\n",
    "# Random classifier probabilities\n",
    "seed = 1\n",
    "np.random.seed(seed)\n",
    "random_classification_probs = np.random.rand(len(y_test))\n",
    "# Compute FPRs and TPRs for the random classifier\n",
    "fpr , tpr = fpr_tpr_per_threshold(y_test, random_classification_probs, positive_class=9)\n",
    "# Plot ROC curve and compute AUC score\n",
    "illustrate_roc_curve_and_auc(fpr , tpr, label=f'Random Classifier (seed={seed})')\n",
    "# this classifier is equivalent to a random guess, so its FPR and TPR are about equal and its AUC is 0.5\n",
    "\n",
    "# Logistic regression classifier probabilities\n",
    "logistic_classifier_probs = model.predict_proba(X_test)\n",
    "# Compute FPRs and TPRs for the logistic regression model\n",
    "fpr , tpr = fpr_tpr_per_threshold(y_test, logistic_classifier_probs, positive_class=9)\n",
    "# Plot ROC curve and compute AUC score\n",
    "illustrate_roc_curve_and_auc(fpr , tpr, label=f'Logistic Regression')"
   ]
  }
 ],
 "metadata": {
  "kernelspec": {
   "display_name": "Python 3",
   "language": "python",
   "name": "python3"
  },
  "language_info": {
   "codemirror_mode": {
    "name": "ipython",
    "version": 3
   },
   "file_extension": ".py",
   "mimetype": "text/x-python",
   "name": "python",
   "nbconvert_exporter": "python",
   "pygments_lexer": "ipython3",
   "version": "3.8.0"
  }
 },
 "nbformat": 4,
 "nbformat_minor": 4
}
